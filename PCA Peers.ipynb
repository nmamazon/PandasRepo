{
 "cells": [
  {
   "cell_type": "code",
   "execution_count": 2,
   "metadata": {
    "collapsed": false
   },
   "outputs": [],
   "source": [
    "%matplotlib inline\n",
    "import pandas as pd\n",
    "import numpy as np\n",
    "import numpy.matlib\n",
    "import matplotlib.pyplot as plt\n",
    "import matplotlib.ticker as mtick\n",
    "import datetime\n",
    "import sys\n",
    "import seaborn as sns\n",
    "import scipy\n",
    "from sqlalchemy import create_engine\n",
    "\n",
    "#sys.path.append('P:/mikePandas')\n",
    "#from blpwrap import *\n",
    "#from seabornwrap import *"
   ]
  },
  {
   "cell_type": "markdown",
   "metadata": {},
   "source": [
    "### Data Parse From Excel"
   ]
  },
  {
   "cell_type": "code",
   "execution_count": 3,
   "metadata": {
    "collapsed": true
   },
   "outputs": [],
   "source": [
    "df = pd.DataFrame()\n",
    "xl = pd.ExcelFile('./MorningstarPeerData.xlsx')"
   ]
  },
  {
   "cell_type": "code",
   "execution_count": 4,
   "metadata": {
    "collapsed": false
   },
   "outputs": [],
   "source": [
    "# Using Panda's ExceLFile module to read peer data\n",
    "for k in range(0, len(xl.sheet_names)):\n",
    "    ws = xl.parse(k, header=0, parse_cols='A:C')\n",
    "    ws['Portfolio'] = [xl.sheet_names[k]] * len(ws)\n",
    "    df = df.append(ws)"
   ]
  },
  {
   "cell_type": "markdown",
   "metadata": {},
   "source": [
    "### SQL Insertion"
   ]
  },
  {
   "cell_type": "code",
   "execution_count": 9,
   "metadata": {
    "collapsed": false
   },
   "outputs": [],
   "source": [
    "disk_engine = create_engine('sqlite:///fund_peer_universe.db')\n",
    "# Initializes database with name 'fund_peer_universe.db' "
   ]
  },
  {
   "cell_type": "code",
   "execution_count": 17,
   "metadata": {
    "collapsed": true
   },
   "outputs": [],
   "source": [
    "df.to_sql('Portfolios', disk_engine, if_exists='replace', index=0)\n",
    "# Create db table 'Portfolios', append data if it does not exist"
   ]
  },
  {
   "cell_type": "markdown",
   "metadata": {},
   "source": [
    "### SQL Query"
   ]
  },
  {
   "cell_type": "code",
   "execution_count": 18,
   "metadata": {
    "collapsed": false
   },
   "outputs": [
    {
     "data": {
      "text/html": [
       "<div>\n",
       "<table border=\"1\" class=\"dataframe\">\n",
       "  <thead>\n",
       "    <tr style=\"text-align: right;\">\n",
       "      <th></th>\n",
       "      <th>Ticker</th>\n",
       "      <th>Name</th>\n",
       "      <th>Weight</th>\n",
       "      <th>Portfolio</th>\n",
       "    </tr>\n",
       "  </thead>\n",
       "  <tbody>\n",
       "    <tr>\n",
       "      <th>0</th>\n",
       "      <td>JCBUX</td>\n",
       "      <td>JPMorgan Core Bond R6</td>\n",
       "      <td>25.50954</td>\n",
       "      <td>JPM SmartRetirement 2025 A</td>\n",
       "    </tr>\n",
       "    <tr>\n",
       "      <th>1</th>\n",
       "      <td>JDEUX</td>\n",
       "      <td>JPMorgan Disciplined Equity R6</td>\n",
       "      <td>14.07830</td>\n",
       "      <td>JPM SmartRetirement 2025 A</td>\n",
       "    </tr>\n",
       "    <tr>\n",
       "      <th>2</th>\n",
       "      <td>CBFVX</td>\n",
       "      <td>JPMorgan Corporate Bond R6</td>\n",
       "      <td>5.55575</td>\n",
       "      <td>JPM SmartRetirement 2025 A</td>\n",
       "    </tr>\n",
       "  </tbody>\n",
       "</table>\n",
       "</div>"
      ],
      "text/plain": [
       "  Ticker                            Name    Weight                   Portfolio\n",
       "0  JCBUX           JPMorgan Core Bond R6  25.50954  JPM SmartRetirement 2025 A\n",
       "1  JDEUX  JPMorgan Disciplined Equity R6  14.07830  JPM SmartRetirement 2025 A\n",
       "2  CBFVX      JPMorgan Corporate Bond R6   5.55575  JPM SmartRetirement 2025 A"
      ]
     },
     "execution_count": 18,
     "metadata": {},
     "output_type": "execute_result"
    }
   ],
   "source": [
    "pd.read_sql_query('Select * from Portfolios limit 3', disk_engine)"
   ]
  },
  {
   "cell_type": "code",
   "execution_count": null,
   "metadata": {
    "collapsed": true
   },
   "outputs": [],
   "source": []
  }
 ],
 "metadata": {
  "kernelspec": {
   "display_name": "Python 2",
   "language": "python",
   "name": "python2"
  },
  "language_info": {
   "codemirror_mode": {
    "name": "ipython",
    "version": 2
   },
   "file_extension": ".py",
   "mimetype": "text/x-python",
   "name": "python",
   "nbconvert_exporter": "python",
   "pygments_lexer": "ipython2",
   "version": "2.7.10"
  }
 },
 "nbformat": 4,
 "nbformat_minor": 0
}
